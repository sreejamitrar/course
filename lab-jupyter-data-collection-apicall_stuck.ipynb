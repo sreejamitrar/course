{
 "cells": [
  {
   "cell_type": "markdown",
   "metadata": {},
   "source": [
    "<center>\n",
    "<img src=\"https://cf-courses-data.s3.us.cloud-object-storage.appdomain.cloud/IBMDeveloperSkillsNetwork-RP0321EN-SkillsNetwork/labs/module_1/images/SN_web_lightmode.png\" width=\"300\"> \n",
    "</center>\n"
   ]
  },
  {
   "cell_type": "markdown",
   "metadata": {},
   "source": [
    "<h1>OpenWeather APIs Calls</h1>\n",
    "\n",
    "Estimated time needed: **40** minutes\n"
   ]
  },
  {
   "cell_type": "markdown",
   "metadata": {},
   "source": [
    "## Lab Overview:\n",
    "\n",
    "In this lab, you will be collecting real-time current and forecasted weather data for cities using the **OpenWeather API**. It can give you current weather data for any location including over 200,000 cities and 5 day forecasts for free (with limited API usage). You just need to use HTTP requests to call those weather APIs and get the weather data.\n",
    "\n",
    "You will be given instructions to set up a free OpenWeather API account with an API key for authentication. Then, you will be shown, with code examples, how to get the current weather for a given city. After you are familiar with OpenWeather API, you will be asked to get 5-day forecast data for a list of cities.\n"
   ]
  },
  {
   "cell_type": "markdown",
   "metadata": {},
   "source": [
    "## Setup OpenWeather API account\n"
   ]
  },
  {
   "cell_type": "markdown",
   "metadata": {},
   "source": [
    "You can create an OpenWeather API account [here](https://home.openweathermap.org/users/sign_up?utm_medium=Exinfluencer&utm_source=Exinfluencer&utm_content=000026UJ&utm_term=10006555&utm_id=NA-SkillsNetwork-Channel-SkillsNetworkCoursesIBMDeveloperSkillsNetworkRP0321ENSkillsNetwork878-2022-01-01). After your account has been created and verified, you can go to Account -> My API Keys:\n"
   ]
  },
  {
   "cell_type": "markdown",
   "metadata": {},
   "source": [
    "<a href=\"https://cognitiveclass.ai/?utm_medium=Exinfluencer&utm_source=Exinfluencer&utm_content=000026UJ&utm_term=10006555&utm_id=NA-SkillsNetwork-Channel-SkillsNetworkCoursesIBMDeveloperSkillsNetworkRP0321ENSkillsNetwork878-2022-01-01\">\n",
    "    <img src=\"https://cf-courses-data.s3.us.cloud-object-storage.appdomain.cloud/IBMDeveloperSkillsNetwork-RP0321EN-SkillsNetwork/labs/module_1/images/l2-openweather-apikey.png\" width=\"400\" align=\"center\">\n",
    "</a>\n"
   ]
  },
  {
   "cell_type": "markdown",
   "metadata": {},
   "source": [
    "and find your API key here:\n"
   ]
  },
  {
   "cell_type": "markdown",
   "metadata": {},
   "source": [
    "<a href=\"https://cognitiveclass.ai/?utm_medium=Exinfluencer&utm_source=Exinfluencer&utm_content=000026UJ&utm_term=10006555&utm_id=NA-SkillsNetwork-Channel-SkillsNetworkCoursesIBMDeveloperSkillsNetworkRP0321ENSkillsNetwork878-2022-01-01\">\n",
    "    <img src=\"https://cf-courses-data.s3.us.cloud-object-storage.appdomain.cloud/IBMDeveloperSkillsNetwork-RP0321EN-SkillsNetwork/labs/module_1/images/l2-openweather-apikey-value.png\" width=\"400\" align=\"center\">\n",
    "</a>\n"
   ]
  },
  {
   "cell_type": "markdown",
   "metadata": {},
   "source": [
    "Now mark down your generated API key, which will be used to authenticate your HTTP requests to OpenWeather API.\n",
    "\n",
    "Note that a new API key may take some time to be activated. You may quickly try the following URL using a web browser.\n",
    "\n",
    "With the `{your_api_key}` URL parameter replaced by your own API key and go to the following URL:\n",
    "\n",
    "https://api.openweathermap.org/data/2.5/weather?q=Seoul&appid={your_api_key}\n"
   ]
  },
  {
   "cell_type": "markdown",
   "metadata": {},
   "source": [
    "\n",
    "until you see some weather data returned (instead of 401 or other error status), similar to the following JSON result:\n",
    "\n",
    "```\n",
    "{\"coord\":{\"lon\":126.9778,\"lat\":37.5683},\n",
    "\"weather\":[{\"id\":800,\"main\":\"Clear\",\"description\":\"clear sky\",\"icon\":\"01n\"}],\n",
    "\"base\":\"stations\",\n",
    "\"main\":{\"temp\":285.16,\"feels_like\":284.04,\"temp_min\":284.15,\"temp_max\":287.15,\"pressure\":1020,\"humidity\":62},\n",
    "\"visibility\":10000,\n",
    "\"wind\":{\"speed\":1.03,\"deg\":220},\"clouds\":{\"all\":0},\"dt\":1617718307,\"sys\":{\"type\":1,\"id\":8105,\"country\":\"KR\",\"sunrise\":1617657021,\"sunset\":1617703103},\"timezone\":32400,\"id\":1835848,\"name\":\"Seoul\",\"cod\":200}\n",
    "```\n"
   ]
  },
  {
   "cell_type": "markdown",
   "metadata": {},
   "source": [
    "## Coding Practice: Get the current weather data for a city using OpenWeather API\n"
   ]
  },
  {
   "cell_type": "markdown",
   "metadata": {},
   "source": [
    "First import `httr` library\n"
   ]
  },
  {
   "cell_type": "code",
   "execution_count": 82,
   "metadata": {},
   "outputs": [
    {
     "name": "stderr",
     "output_type": "stream",
     "text": [
      "\n",
      "Attaching package: 'dplyr'\n",
      "\n",
      "\n",
      "The following objects are masked from 'package:stats':\n",
      "\n",
      "    filter, lag\n",
      "\n",
      "\n",
      "The following objects are masked from 'package:base':\n",
      "\n",
      "    intersect, setdiff, setequal, union\n",
      "\n",
      "\n"
     ]
    }
   ],
   "source": [
    "# Check if need to install rvest` library\n",
    "require(\"httr\")\n",
    "library(dplyr)\n",
    "library(httr)"
   ]
  },
  {
   "cell_type": "markdown",
   "metadata": {},
   "source": [
    "The API base URL to get current weather is https://api.openweathermap.org/data/2.5/weather\n"
   ]
  },
  {
   "cell_type": "code",
   "execution_count": 5,
   "metadata": {},
   "outputs": [],
   "source": [
    "# URL for Current Weather API\n",
    "current_weather_url <- 'https://api.openweathermap.org/data/2.5/weather'"
   ]
  },
  {
   "cell_type": "markdown",
   "metadata": {},
   "source": [
    "Next, let's create a list to hold URL parameters for current weather API\n"
   ]
  },
  {
   "cell_type": "code",
   "execution_count": 6,
   "metadata": {},
   "outputs": [],
   "source": [
    "# need to be replaced by your real API key\n",
    "your_api_key <- \"efd3b2d5d14ae968f155036cc12050b6\"\n",
    "# Input `q` is the city name\n",
    "# Input `appid` is your API KEY, \n",
    "# Input `units` are preferred units such as Metric or Imperial\n",
    "current_query <- list(q = \"Seoul\", appid = your_api_key, units=\"metric\")"
   ]
  },
  {
   "cell_type": "markdown",
   "metadata": {},
   "source": [
    "Now we can make a HTTP request to the current weather API\n"
   ]
  },
  {
   "cell_type": "code",
   "execution_count": 10,
   "metadata": {},
   "outputs": [
    {
     "data": {
      "text/plain": [
       "Response [https://api.openweathermap.org/data/2.5/weather?q=Seoul&appid=efd3b2d5d14ae968f155036cc12050b6&units=metric]\n",
       "  Date: 2023-12-08 15:28\n",
       "  Status: 200\n",
       "  Content-Type: application/json; charset=utf-8\n",
       "  Size: 472 B\n"
      ]
     },
     "metadata": {},
     "output_type": "display_data"
    }
   ],
   "source": [
    "response <- GET(current_weather_url, query=current_query)\n",
    "response"
   ]
  },
  {
   "cell_type": "markdown",
   "metadata": {},
   "source": [
    "If we check the response type, we can see it is in JSON format\n"
   ]
  },
  {
   "cell_type": "code",
   "execution_count": 9,
   "metadata": {},
   "outputs": [
    {
     "data": {
      "text/html": [
       "'application/json'"
      ],
      "text/latex": [
       "'application/json'"
      ],
      "text/markdown": [
       "'application/json'"
      ],
      "text/plain": [
       "[1] \"application/json\""
      ]
     },
     "metadata": {},
     "output_type": "display_data"
    }
   ],
   "source": [
    "http_type(response)"
   ]
  },
  {
   "cell_type": "markdown",
   "metadata": {},
   "source": [
    "JSON is an open standard file and data interchange format that uses human-readable text to store and transmit data objects. To read the JSON HTTP response, you can use the `content()` function to parse it as a named list in R.\n"
   ]
  },
  {
   "cell_type": "code",
   "execution_count": 11,
   "metadata": {},
   "outputs": [],
   "source": [
    "json_result <- content(response, as=\"parsed\")"
   ]
  },
  {
   "cell_type": "markdown",
   "metadata": {},
   "source": [
    "If you use the `class()` function, you can see it is a R `List` object\n"
   ]
  },
  {
   "cell_type": "code",
   "execution_count": 12,
   "metadata": {},
   "outputs": [
    {
     "data": {
      "text/html": [
       "'list'"
      ],
      "text/latex": [
       "'list'"
      ],
      "text/markdown": [
       "'list'"
      ],
      "text/plain": [
       "[1] \"list\""
      ]
     },
     "metadata": {},
     "output_type": "display_data"
    }
   ],
   "source": [
    "class(json_result)"
   ]
  },
  {
   "cell_type": "markdown",
   "metadata": {},
   "source": [
    "Now let's print the JSON result.\n"
   ]
  },
  {
   "cell_type": "code",
   "execution_count": 107,
   "metadata": {},
   "outputs": [
    {
     "data": {
      "text/html": [
       "<dl>\n",
       "\t<dt>$coord</dt>\n",
       "\t\t<dd><dl>\n",
       "\t<dt>$lon</dt>\n",
       "\t\t<dd>126.9778</dd>\n",
       "\t<dt>$lat</dt>\n",
       "\t\t<dd>37.5683</dd>\n",
       "</dl>\n",
       "</dd>\n",
       "\t<dt>$weather</dt>\n",
       "\t\t<dd><ol>\n",
       "\t<li><dl>\n",
       "\t<dt>$id</dt>\n",
       "\t\t<dd>802</dd>\n",
       "\t<dt>$main</dt>\n",
       "\t\t<dd>'Clouds'</dd>\n",
       "\t<dt>$description</dt>\n",
       "\t\t<dd>'scattered clouds'</dd>\n",
       "\t<dt>$icon</dt>\n",
       "\t\t<dd>'03n'</dd>\n",
       "</dl>\n",
       "</li>\n",
       "</ol>\n",
       "</dd>\n",
       "\t<dt>$base</dt>\n",
       "\t\t<dd>'stations'</dd>\n",
       "\t<dt>$main</dt>\n",
       "\t\t<dd><dl>\n",
       "\t<dt>$temp</dt>\n",
       "\t\t<dd>12.19</dd>\n",
       "\t<dt>$feels_like</dt>\n",
       "\t\t<dd>11.92</dd>\n",
       "\t<dt>$temp_min</dt>\n",
       "\t\t<dd>11.76</dd>\n",
       "\t<dt>$temp_max</dt>\n",
       "\t\t<dd>13.66</dd>\n",
       "\t<dt>$pressure</dt>\n",
       "\t\t<dd>1014</dd>\n",
       "\t<dt>$humidity</dt>\n",
       "\t\t<dd>94</dd>\n",
       "</dl>\n",
       "</dd>\n",
       "\t<dt>$visibility</dt>\n",
       "\t\t<dd>9000</dd>\n",
       "\t<dt>$wind</dt>\n",
       "\t\t<dd><dl>\n",
       "\t<dt>$speed</dt>\n",
       "\t\t<dd>3.09</dd>\n",
       "\t<dt>$deg</dt>\n",
       "\t\t<dd>170</dd>\n",
       "</dl>\n",
       "</dd>\n",
       "\t<dt>$clouds</dt>\n",
       "\t\t<dd><strong>$all</strong> = 40</dd>\n",
       "\t<dt>$dt</dt>\n",
       "\t\t<dd>1702048879</dd>\n",
       "\t<dt>$sys</dt>\n",
       "\t\t<dd><dl>\n",
       "\t<dt>$type</dt>\n",
       "\t\t<dd>1</dd>\n",
       "\t<dt>$id</dt>\n",
       "\t\t<dd>8105</dd>\n",
       "\t<dt>$country</dt>\n",
       "\t\t<dd>'KR'</dd>\n",
       "\t<dt>$sunrise</dt>\n",
       "\t\t<dd>1702074884</dd>\n",
       "\t<dt>$sunset</dt>\n",
       "\t\t<dd>1702109625</dd>\n",
       "</dl>\n",
       "</dd>\n",
       "\t<dt>$timezone</dt>\n",
       "\t\t<dd>32400</dd>\n",
       "\t<dt>$id</dt>\n",
       "\t\t<dd>1835848</dd>\n",
       "\t<dt>$name</dt>\n",
       "\t\t<dd>'Seoul'</dd>\n",
       "\t<dt>$cod</dt>\n",
       "\t\t<dd>200</dd>\n",
       "</dl>\n"
      ],
      "text/latex": [
       "\\begin{description}\n",
       "\\item[\\$coord] \\begin{description}\n",
       "\\item[\\$lon] 126.9778\n",
       "\\item[\\$lat] 37.5683\n",
       "\\end{description}\n",
       "\n",
       "\\item[\\$weather] \\begin{enumerate}\n",
       "\\item \\begin{description}\n",
       "\\item[\\$id] 802\n",
       "\\item[\\$main] 'Clouds'\n",
       "\\item[\\$description] 'scattered clouds'\n",
       "\\item[\\$icon] '03n'\n",
       "\\end{description}\n",
       "\n",
       "\\end{enumerate}\n",
       "\n",
       "\\item[\\$base] 'stations'\n",
       "\\item[\\$main] \\begin{description}\n",
       "\\item[\\$temp] 12.19\n",
       "\\item[\\$feels\\_like] 11.92\n",
       "\\item[\\$temp\\_min] 11.76\n",
       "\\item[\\$temp\\_max] 13.66\n",
       "\\item[\\$pressure] 1014\n",
       "\\item[\\$humidity] 94\n",
       "\\end{description}\n",
       "\n",
       "\\item[\\$visibility] 9000\n",
       "\\item[\\$wind] \\begin{description}\n",
       "\\item[\\$speed] 3.09\n",
       "\\item[\\$deg] 170\n",
       "\\end{description}\n",
       "\n",
       "\\item[\\$clouds] \\textbf{\\$all} = 40\n",
       "\\item[\\$dt] 1702048879\n",
       "\\item[\\$sys] \\begin{description}\n",
       "\\item[\\$type] 1\n",
       "\\item[\\$id] 8105\n",
       "\\item[\\$country] 'KR'\n",
       "\\item[\\$sunrise] 1702074884\n",
       "\\item[\\$sunset] 1702109625\n",
       "\\end{description}\n",
       "\n",
       "\\item[\\$timezone] 32400\n",
       "\\item[\\$id] 1835848\n",
       "\\item[\\$name] 'Seoul'\n",
       "\\item[\\$cod] 200\n",
       "\\end{description}\n"
      ],
      "text/markdown": [
       "$coord\n",
       ":   $lon\n",
       ":   126.9778\n",
       "$lat\n",
       ":   37.5683\n",
       "\n",
       "\n",
       "\n",
       "$weather\n",
       ":   1. $id\n",
       ":   802\n",
       "$main\n",
       ":   'Clouds'\n",
       "$description\n",
       ":   'scattered clouds'\n",
       "$icon\n",
       ":   '03n'\n",
       "\n",
       "\n",
       "\n",
       "\n",
       "\n",
       "\n",
       "$base\n",
       ":   'stations'\n",
       "$main\n",
       ":   $temp\n",
       ":   12.19\n",
       "$feels_like\n",
       ":   11.92\n",
       "$temp_min\n",
       ":   11.76\n",
       "$temp_max\n",
       ":   13.66\n",
       "$pressure\n",
       ":   1014\n",
       "$humidity\n",
       ":   94\n",
       "\n",
       "\n",
       "\n",
       "$visibility\n",
       ":   9000\n",
       "$wind\n",
       ":   $speed\n",
       ":   3.09\n",
       "$deg\n",
       ":   170\n",
       "\n",
       "\n",
       "\n",
       "$clouds\n",
       ":   **$all** = 40\n",
       "$dt\n",
       ":   1702048879\n",
       "$sys\n",
       ":   $type\n",
       ":   1\n",
       "$id\n",
       ":   8105\n",
       "$country\n",
       ":   'KR'\n",
       "$sunrise\n",
       ":   1702074884\n",
       "$sunset\n",
       ":   1702109625\n",
       "\n",
       "\n",
       "\n",
       "$timezone\n",
       ":   32400\n",
       "$id\n",
       ":   1835848\n",
       "$name\n",
       ":   'Seoul'\n",
       "$cod\n",
       ":   200\n",
       "\n",
       "\n"
      ],
      "text/plain": [
       "$coord\n",
       "$coord$lon\n",
       "[1] 126.9778\n",
       "\n",
       "$coord$lat\n",
       "[1] 37.5683\n",
       "\n",
       "\n",
       "$weather\n",
       "$weather[[1]]\n",
       "$weather[[1]]$id\n",
       "[1] 802\n",
       "\n",
       "$weather[[1]]$main\n",
       "[1] \"Clouds\"\n",
       "\n",
       "$weather[[1]]$description\n",
       "[1] \"scattered clouds\"\n",
       "\n",
       "$weather[[1]]$icon\n",
       "[1] \"03n\"\n",
       "\n",
       "\n",
       "\n",
       "$base\n",
       "[1] \"stations\"\n",
       "\n",
       "$main\n",
       "$main$temp\n",
       "[1] 12.19\n",
       "\n",
       "$main$feels_like\n",
       "[1] 11.92\n",
       "\n",
       "$main$temp_min\n",
       "[1] 11.76\n",
       "\n",
       "$main$temp_max\n",
       "[1] 13.66\n",
       "\n",
       "$main$pressure\n",
       "[1] 1014\n",
       "\n",
       "$main$humidity\n",
       "[1] 94\n",
       "\n",
       "\n",
       "$visibility\n",
       "[1] 9000\n",
       "\n",
       "$wind\n",
       "$wind$speed\n",
       "[1] 3.09\n",
       "\n",
       "$wind$deg\n",
       "[1] 170\n",
       "\n",
       "\n",
       "$clouds\n",
       "$clouds$all\n",
       "[1] 40\n",
       "\n",
       "\n",
       "$dt\n",
       "[1] 1702048879\n",
       "\n",
       "$sys\n",
       "$sys$type\n",
       "[1] 1\n",
       "\n",
       "$sys$id\n",
       "[1] 8105\n",
       "\n",
       "$sys$country\n",
       "[1] \"KR\"\n",
       "\n",
       "$sys$sunrise\n",
       "[1] 1702074884\n",
       "\n",
       "$sys$sunset\n",
       "[1] 1702109625\n",
       "\n",
       "\n",
       "$timezone\n",
       "[1] 32400\n",
       "\n",
       "$id\n",
       "[1] 1835848\n",
       "\n",
       "$name\n",
       "[1] \"Seoul\"\n",
       "\n",
       "$cod\n",
       "[1] 200\n"
      ]
     },
     "metadata": {},
     "output_type": "display_data"
    }
   ],
   "source": [
    "#jr<-as.data.frame(do.call(cbind, json_result))\n",
    "json_result\n",
    "#jr"
   ]
  },
  {
   "cell_type": "markdown",
   "metadata": {},
   "source": [
    "It contains very detailed weather data about the city of `Seoul`. Feel free to try other cities as well. We need to convert the named list to a data frame so that we can use data frame operations to process the data. Below is a simple example, which you may implement your own way to convert it to a data frame.\n"
   ]
  },
  {
   "cell_type": "code",
   "execution_count": 93,
   "metadata": {},
   "outputs": [],
   "source": [
    "# Create some empty vectors to hold data temporarily\n",
    "weather <- c()\n",
    "visibility <- c()\n",
    "temp <- c()\n",
    "temp_min <- c()\n",
    "temp_max <- c()\n",
    "pressure <- c()\n",
    "humidity <- c()\n",
    "wind_speed <- c()\n",
    "wind_deg <- c()"
   ]
  },
  {
   "cell_type": "markdown",
   "metadata": {},
   "source": [
    "Now assign the values in the `json_result` list into different vectors\n"
   ]
  },
  {
   "cell_type": "code",
   "execution_count": 15,
   "metadata": {},
   "outputs": [],
   "source": [
    "# $weather is also a list with one element, its $main element indicates the weather status such as clear or rain\n",
    "weather <- c(weather, json_result$weather[[1]]$main)\n",
    "# Get Visibility\n",
    "visibility <- c(visibility, json_result$visibility)\n",
    "# Get current temperature \n",
    "temp <- c(temp, json_result$main$temp)\n",
    "# Get min temperature \n",
    "temp_min <- c(temp_min, json_result$main$temp_min)\n",
    "# Get max temperature \n",
    "temp_max <- c(temp_max, json_result$main$temp_max)\n",
    "# Get pressure\n",
    "pressure <- c(pressure, json_result$main$pressure)\n",
    "# Get humidity\n",
    "humidity <- c(humidity, json_result$main$humidity)\n",
    "# Get wind speed\n",
    "wind_speed <- c(wind_speed, json_result$wind$speed)\n",
    "# Get wind direction\n",
    "wind_deg <- c(wind_deg, json_result$wind$deg)\n"
   ]
  },
  {
   "cell_type": "markdown",
   "metadata": {},
   "source": [
    "Combine all vectors as columns of a data frame\n"
   ]
  },
  {
   "cell_type": "code",
   "execution_count": 16,
   "metadata": {},
   "outputs": [],
   "source": [
    "# Combine all vectors\n",
    "weather_data_frame <- data.frame(weather=weather, \n",
    "                                 visibility=visibility, \n",
    "                                 temp=temp, \n",
    "                                 temp_min=temp_min, \n",
    "                                 temp_max=temp_max, \n",
    "                                 pressure=pressure, \n",
    "                                 humidity=humidity, \n",
    "                                 wind_speed=wind_speed, \n",
    "                                 wind_deg=wind_deg)"
   ]
  },
  {
   "cell_type": "code",
   "execution_count": 116,
   "metadata": {},
   "outputs": [
    {
     "ename": "ERROR",
     "evalue": "Error in eval(expr, envir, enclos): object 'weather_data_frame' not found\n",
     "output_type": "error",
     "traceback": [
      "Error in eval(expr, envir, enclos): object 'weather_data_frame' not found\nTraceback:\n",
      "1. print(weather_data_frame)"
     ]
    }
   ],
   "source": [
    "# Check the generated data frame\n",
    "print(weather_data_frame)\n",
    "rm(list = ls())"
   ]
  },
  {
   "cell_type": "markdown",
   "metadata": {},
   "source": [
    "# TASK:  Get 5-day weather forecasts for a list of cities using the OpenWeather API\n"
   ]
  },
  {
   "cell_type": "markdown",
   "metadata": {},
   "source": [
    "Now you should be familiar with the usage of OpenWeather API. Next, you need to complete a task to get 5-day weather forecasts for a list of cities\n"
   ]
  },
  {
   "cell_type": "markdown",
   "metadata": {},
   "source": [
    "_TODO:_ Write a function to return a data frame containing 5-day weather forecasts for a list of cities\n"
   ]
  },
  {
   "cell_type": "code",
   "execution_count": 117,
   "metadata": {},
   "outputs": [],
   "source": [
    "# Create some empty vectors to hold data temporarily\n",
    "\n",
    "# City name column\n",
    "city <- c()\n",
    "# Weather column, rainy or cloudy, etc\n",
    "weather <- c()\n",
    "# Sky visibility column\n",
    "visibility <- c()\n",
    "# Current temperature column\n",
    "temp <- c()\n",
    "# Max temperature column\n",
    "temp_min <- c()\n",
    "# Min temperature column\n",
    "temp_max <- c()\n",
    "# Pressure column\n",
    "pressure <- c()\n",
    "# Humidity column\n",
    "humidity <- c()\n",
    "# Wind speed column\n",
    "wind_speed <- c()\n",
    "# Wind direction column\n",
    "wind_deg <- c()\n",
    "# Forecast timestamp\n",
    "forecast_datetime <- c()\n",
    "# Season column\n",
    "# Note that for season, you can hard code a season value from levels Spring, Summer, Autumn, and Winter based on your current month.\n",
    "season <- c()"
   ]
  },
  {
   "cell_type": "code",
   "execution_count": 118,
   "metadata": {},
   "outputs": [],
   "source": [
    "# Get forecast data for a given city list\n",
    "get_weather_forecaset_by_cities <- function(city_names){\n",
    "    df <- data.frame()\n",
    "    for (city_name in city_names){\n",
    "        # Forecast API URL\n",
    "        forecast_url <- 'https://api.openweathermap.org/data/2.5/forecast'\n",
    "        # Create query parameters\n",
    "        forecast_query <- list(q = city_name, appid = \"efd3b2d5d14ae968f155036cc12050b6\", units=\"metric\")\n",
    "        # Make HTTP GET call for the given city\n",
    "        getcall <- GET(forecast_url, query=forecast_query)\n",
    "        # Note that the 5-day forecast JSON result is a list of lists. You can print the reponse to check the results\n",
    "        json_list<-content(getcall, as=\"parsed\")\n",
    "        #results <- json_list$list\n",
    "        results <- json_list$list\n",
    "        # Loop the json result\n",
    "        for(result in results) {\n",
    "            city <- c(city, city_name)\n",
    "            weather <- c(weather, json_list$weather[[1]]$main)\n",
    "            visibility <- c(visibility, json_list$visibility)\n",
    "            temp <- c(temp, json_list$main$temp)\n",
    "            temp_min <- c(temp_min, json_list$main$temp_min)\n",
    "            temp_max <- c(temp_max, json_list$main$temp_max)\n",
    "            pressure <- c(pressure, json_list$main$pressure)\n",
    "            humidity <- c(humidity, json_list$main$humidity)\n",
    "            wind_speed <- c(wind_speed, json_list$wind$speed)\n",
    "            wind_deg <- c(wind_deg, json_list$wind$deg)\n",
    "            forecast_datetime <- c(forecast_datetime, json_list$dt)\n",
    "            season <- c('Winter')\n",
    "        }\n",
    "        df <- data.frame(city=city,\n",
    "                         weather=weather, \n",
    "                         visibility=visibility, \n",
    "                         temp=temp, \n",
    "                         temp_min=temp_min, \n",
    "                         temp_max=temp_max, \n",
    "                         pressure=pressure, \n",
    "                         humidity=humidity, \n",
    "                         wind_speed=wind_speed, \n",
    "                         wind_deg=wind_deg,\n",
    "                         forecast_datetime=forecast_datetime,\n",
    "                         season=season)\n",
    "        # Add the R Lists into a data frame\n",
    "    }\n",
    "    \n",
    "    # Return a data frame\n",
    "    return(df)\n",
    "    \n",
    "}"
   ]
  },
  {
   "cell_type": "markdown",
   "metadata": {},
   "source": [
    "Complete and call `get_weather_forecaset_by_cities` function with a list of cities, and write the data frame into a csv file called `cities_weather_forecast.csv`\n"
   ]
  },
  {
   "cell_type": "code",
   "execution_count": 119,
   "metadata": {},
   "outputs": [
    {
     "ename": "ERROR",
     "evalue": "Error in data.frame(city = city, weather = weather, visibility = visibility, : arguments imply differing number of rows: 40, 0, 1\n",
     "output_type": "error",
     "traceback": [
      "Error in data.frame(city = city, weather = weather, visibility = visibility, : arguments imply differing number of rows: 40, 0, 1\nTraceback:\n",
      "1. get_weather_forecaset_by_cities(cities)",
      "2. data.frame(city = city, weather = weather, visibility = visibility, \n .     temp = temp, temp_min = temp_min, temp_max = temp_max, pressure = pressure, \n .     humidity = humidity, wind_speed = wind_speed, wind_deg = wind_deg, \n .     forecast_datetime = forecast_datetime, season = season)   # at line 30-41 of file <text>",
      "3. stop(gettextf(\"arguments imply differing number of rows: %s\", \n .     paste(unique(nrows), collapse = \", \")), domain = NA)"
     ]
    }
   ],
   "source": [
    "cities <- c(\"Seoul\", \"Washington, D.C.\", \"Paris\", \"Suzhou\")\n",
    "cities_weather_df <- get_weather_forecaset_by_cities(cities)\n",
    "cities_weather_df"
   ]
  },
  {
   "cell_type": "code",
   "execution_count": null,
   "metadata": {},
   "outputs": [],
   "source": [
    "# Write cities_weather_df to `cities_weather_forecast.csv`\n",
    "write.csv(cities_weather_df, \"cities_weather_forecast.csv\", row.names=FALSE)"
   ]
  },
  {
   "cell_type": "markdown",
   "metadata": {},
   "source": [
    "For more details about HTTP requests with `httr`, please refer to the previous HTTP request notebook here: \n",
    "\n",
    "[HTTP request in R](https://cf-courses-data.s3.us.cloud-object-storage.appdomain.cloud/IBMDeveloperSkillsNetwork-RP0101EN-Coursera/v2/M4_Working_With_Data/lab2_jupyter_http-request.ipynb)\n"
   ]
  },
  {
   "cell_type": "markdown",
   "metadata": {},
   "source": [
    "## TASK: Download datasets as csv files from cloud storage\n"
   ]
  },
  {
   "cell_type": "markdown",
   "metadata": {},
   "source": [
    "The last task of this lab is straightforward: download some aggregated datasets from cloud storage\n"
   ]
  },
  {
   "cell_type": "code",
   "execution_count": null,
   "metadata": {},
   "outputs": [],
   "source": [
    "# Download several datasets\n",
    "\n",
    "# Download some general city information such as name and locations\n",
    "url <- \"https://cf-courses-data.s3.us.cloud-object-storage.appdomain.cloud/IBMDeveloperSkillsNetwork-RP0321EN-SkillsNetwork/labs/datasets/raw_worldcities.csv\"\n",
    "# download the file\n",
    "download.file(url, destfile = \"raw_worldcities.csv\")\n",
    "\n",
    "# Download a specific hourly Seoul bike sharing demand dataset\n",
    "url <- \"https://cf-courses-data.s3.us.cloud-object-storage.appdomain.cloud/IBMDeveloperSkillsNetwork-RP0321EN-SkillsNetwork/labs/datasets/raw_seoul_bike_sharing.csv\"\n",
    "# download the file\n",
    "download.file(url, destfile = \"raw_seoul_bike_sharing.csv\")"
   ]
  },
  {
   "cell_type": "markdown",
   "metadata": {},
   "source": [
    "## Next Step\n"
   ]
  },
  {
   "cell_type": "markdown",
   "metadata": {},
   "source": [
    "Now you should collect all datasets required for this project, all in csv format. Feel free to explore them preliminarily now. However, they are the raw datasets and have to be processed for further data visualization or data analysis.\n",
    "\n",
    "In the next module, you will improve their quality by performing data wrangling tasks.\n"
   ]
  },
  {
   "cell_type": "markdown",
   "metadata": {},
   "source": [
    "## Authors\n",
    "\n",
    "<a href=\"https://www.linkedin.com/in/yan-luo-96288783/?utm_medium=Exinfluencer&utm_source=Exinfluencer&utm_content=000026UJ&utm_term=10006555&utm_id=NA-SkillsNetwork-Channel-SkillsNetworkCoursesIBMDeveloperSkillsNetworkRP0321ENSkillsNetwork878-2022-01-01\" target=\"_blank\">Yan Luo</a>\n"
   ]
  },
  {
   "cell_type": "markdown",
   "metadata": {},
   "source": [
    "### Other Contributors\n"
   ]
  },
  {
   "cell_type": "markdown",
   "metadata": {},
   "source": [
    "## Change Log\n",
    "\n",
    "| Date (YYYY-MM-DD) | Version | Changed By | Change Description           |\n",
    "| ----------------- | ------- | ---------- | ---------------------------- |\n",
    "| 2021-04-05        | 0.1     | Yan        | Initial version created      |\n",
    "|                   |         |            |                              |\n",
    "|                   |         |            |                              |\n",
    "\n",
    "## <h3 align=\"center\"> © IBM Corporation 2021. All rights reserved. <h3/>\n"
   ]
  }
 ],
 "metadata": {
  "kernelspec": {
   "display_name": "R",
   "language": "R",
   "name": "ir"
  },
  "language_info": {
   "codemirror_mode": "r",
   "file_extension": ".r",
   "mimetype": "text/x-r-source",
   "name": "R",
   "pygments_lexer": "r",
   "version": "4.3.0"
  }
 },
 "nbformat": 4,
 "nbformat_minor": 4
}
